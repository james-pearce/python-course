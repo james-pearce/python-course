{
 "cells": [
  {
   "cell_type": "markdown",
   "metadata": {},
   "source": [
    "# Access Azure ML Studio datasets\n",
    "\n",
    "First need to ensure you have installed the Python library.\n",
    "\n",
    "```\n",
    "pip install azureml\n",
    "```\n",
    "\n",
    "## Accessing Azure ML Studio\n",
    "\n",
    "Generate code (which automatically includes the workspace and authorisation IDs) from your Python data set. Here I am looking at the `Bank Data Full` data set. (This is a dataset I use for building a classification model in Azure ML Studio.)"
   ]
  },
  {
   "cell_type": "code",
   "execution_count": 2,
   "metadata": {},
   "outputs": [],
   "source": [
    "from azureml import Workspace\n",
    "ws = Workspace(\n",
    "    workspace_id='a2735eb12762448d867bdeb22bf836d8',\n",
    "    authorization_token='a9dba7a98adc4faa8ab969982c108f00',\n",
    "    endpoint='https://studioapi.azureml.net'\n",
    ")\n",
    "ds = ws.datasets['Bank Data Full']\n",
    "frame = ds.to_dataframe()"
   ]
  },
  {
   "cell_type": "code",
   "execution_count": null,
   "metadata": {},
   "outputs": [],
   "source": []
  }
 ],
 "metadata": {
  "kernelspec": {
   "display_name": "Python 3",
   "language": "python",
   "name": "python3"
  },
  "language_info": {
   "codemirror_mode": {
    "name": "ipython",
    "version": 3
   },
   "file_extension": ".py",
   "mimetype": "text/x-python",
   "name": "python",
   "nbconvert_exporter": "python",
   "pygments_lexer": "ipython3",
   "version": "3.6.8"
  }
 },
 "nbformat": 4,
 "nbformat_minor": 2
}
