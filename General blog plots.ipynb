{
 "cells": [
  {
   "cell_type": "markdown",
   "metadata": {},
   "source": [
    "# General blog plots"
   ]
  },
  {
   "cell_type": "code",
   "execution_count": 1,
   "metadata": {},
   "outputs": [
    {
     "data": {
      "text/plain": [
       "'3.6.1'"
      ]
     },
     "execution_count": 1,
     "metadata": {},
     "output_type": "execute_result"
    }
   ],
   "source": [
    "import plotly\n",
    "plotly.__version__"
   ]
  },
  {
   "cell_type": "code",
   "execution_count": 2,
   "metadata": {},
   "outputs": [],
   "source": [
    "import plotly.plotly as py\n",
    "import plotly.graph_objs as go\n",
    "import numpy as np\n",
    "import pandas as pd\n"
   ]
  },
  {
   "cell_type": "markdown",
   "metadata": {},
   "source": [
    "Create pandas data frame from the first data set."
   ]
  },
  {
   "cell_type": "code",
   "execution_count": 3,
   "metadata": {},
   "outputs": [
    {
     "data": {
      "text/html": [
       "<div>\n",
       "<style scoped>\n",
       "    .dataframe tbody tr th:only-of-type {\n",
       "        vertical-align: middle;\n",
       "    }\n",
       "\n",
       "    .dataframe tbody tr th {\n",
       "        vertical-align: top;\n",
       "    }\n",
       "\n",
       "    .dataframe thead th {\n",
       "        text-align: right;\n",
       "    }\n",
       "</style>\n",
       "<table border=\"1\" class=\"dataframe\">\n",
       "  <thead>\n",
       "    <tr style=\"text-align: right;\">\n",
       "      <th></th>\n",
       "      <th>No of Trees or DAGs</th>\n",
       "      <th>Random Forest</th>\n",
       "      <th>Random Jungle</th>\n",
       "    </tr>\n",
       "  </thead>\n",
       "  <tbody>\n",
       "    <tr>\n",
       "      <th>0</th>\n",
       "      <td>8</td>\n",
       "      <td>90.1</td>\n",
       "      <td>86.2</td>\n",
       "    </tr>\n",
       "    <tr>\n",
       "      <th>1</th>\n",
       "      <td>16</td>\n",
       "      <td>92.2</td>\n",
       "      <td>88.2</td>\n",
       "    </tr>\n",
       "    <tr>\n",
       "      <th>2</th>\n",
       "      <td>32</td>\n",
       "      <td>93.4</td>\n",
       "      <td>90.0</td>\n",
       "    </tr>\n",
       "    <tr>\n",
       "      <th>3</th>\n",
       "      <td>64</td>\n",
       "      <td>93.8</td>\n",
       "      <td>90.4</td>\n",
       "    </tr>\n",
       "    <tr>\n",
       "      <th>4</th>\n",
       "      <td>128</td>\n",
       "      <td>94.1</td>\n",
       "      <td>90.9</td>\n",
       "    </tr>\n",
       "    <tr>\n",
       "      <th>5</th>\n",
       "      <td>216</td>\n",
       "      <td>94.4</td>\n",
       "      <td>91.1</td>\n",
       "    </tr>\n",
       "    <tr>\n",
       "      <th>6</th>\n",
       "      <td>512</td>\n",
       "      <td>94.4</td>\n",
       "      <td>91.2</td>\n",
       "    </tr>\n",
       "  </tbody>\n",
       "</table>\n",
       "</div>"
      ],
      "text/plain": [
       "   No of Trees or DAGs  Random Forest  Random Jungle\n",
       "0                    8           90.1           86.2\n",
       "1                   16           92.2           88.2\n",
       "2                   32           93.4           90.0\n",
       "3                   64           93.8           90.4\n",
       "4                  128           94.1           90.9\n",
       "5                  216           94.4           91.1\n",
       "6                  512           94.4           91.2"
      ]
     },
     "execution_count": 3,
     "metadata": {},
     "output_type": "execute_result"
    }
   ],
   "source": [
    "n_trees_DAGs = [8, 16, 32, 64, 128, 216, 512]\n",
    "forest = [90.1, 92.2, 93.4, 93.8, 94.1, 94.4, 94.4]\n",
    "jungle = [86.2, 88.2, 90.0, 90.4, 90.9, 91.1, 91.2]\n",
    "\n",
    "results = {'No of Trees or DAGs': n_trees_DAGs,\n",
    "         'Random Forest': forest,\n",
    "         'Random Jungle': jungle\n",
    "         }\n",
    "experiment_0 = pd.DataFrame.from_dict(results)\n",
    "experiment_0\n"
   ]
  },
  {
   "cell_type": "code",
   "execution_count": 24,
   "metadata": {},
   "outputs": [],
   "source": [
    "trace1 = go.Scatter(\n",
    "    x = experiment_0['No of Trees or DAGs'],\n",
    "    y = experiment_0['Random Forest'],\n",
    "    name = 'Random Forest',\n",
    "    mode='lines+markers'\n",
    "    )\n",
    "\n",
    "\n",
    "trace2 = go.Scatter(\n",
    "    x = experiment_0['No of Trees or DAGs'],\n",
    "    y = experiment_0['Random Jungle'],\n",
    "    name = 'Random Jungle',\n",
    "    mode='lines+markers'\n",
    "    )\n",
    "\n",
    "layout = dict(title = 'Comparison on the MNIST digit recognition data set',\n",
    "             xaxis=dict(title='Number of trees or DAGs'),\n",
    "             yaxis=dict(title='Overall accuracy'))\n",
    "fig = dict(data=[trace1, trace2], layout=layout)"
   ]
  },
  {
   "cell_type": "code",
   "execution_count": 25,
   "metadata": {},
   "outputs": [
    {
     "data": {
      "text/html": [
       "<iframe id=\"igraph\" scrolling=\"no\" style=\"border:none;\" seamless=\"seamless\" src=\"https://plot.ly/~3crowns/37.embed\" height=\"525px\" width=\"100%\"></iframe>"
      ],
      "text/plain": [
       "<plotly.tools.PlotlyDisplay object>"
      ]
     },
     "execution_count": 25,
     "metadata": {},
     "output_type": "execute_result"
    }
   ],
   "source": [
    "py.iplot(fig, filename=\"line-chart\")"
   ]
  },
  {
   "cell_type": "markdown",
   "metadata": {},
   "source": [
    "Read in the next set of data from the Microsoft experiment."
   ]
  },
  {
   "cell_type": "code",
   "execution_count": 14,
   "metadata": {},
   "outputs": [
    {
     "data": {
      "text/html": [
       "<div>\n",
       "<style scoped>\n",
       "    .dataframe tbody tr th:only-of-type {\n",
       "        vertical-align: middle;\n",
       "    }\n",
       "\n",
       "    .dataframe tbody tr th {\n",
       "        vertical-align: top;\n",
       "    }\n",
       "\n",
       "    .dataframe thead th {\n",
       "        text-align: right;\n",
       "    }\n",
       "</style>\n",
       "<table border=\"1\" class=\"dataframe\">\n",
       "  <thead>\n",
       "    <tr style=\"text-align: right;\">\n",
       "      <th></th>\n",
       "      <th>Precision</th>\n",
       "      <th>Recall</th>\n",
       "    </tr>\n",
       "    <tr>\n",
       "      <th>Algorithm</th>\n",
       "      <th></th>\n",
       "      <th></th>\n",
       "    </tr>\n",
       "  </thead>\n",
       "  <tbody>\n",
       "    <tr>\n",
       "      <th>Neural Network</th>\n",
       "      <td>0.931207</td>\n",
       "      <td>0.928424</td>\n",
       "    </tr>\n",
       "    <tr>\n",
       "      <th>Decision Jungle</th>\n",
       "      <td>0.820878</td>\n",
       "      <td>0.806627</td>\n",
       "    </tr>\n",
       "    <tr>\n",
       "      <th>Logistic Regression</th>\n",
       "      <td>0.749821</td>\n",
       "      <td>0.745298</td>\n",
       "    </tr>\n",
       "    <tr>\n",
       "      <th>Decision Forest</th>\n",
       "      <td>0.930011</td>\n",
       "      <td>0.928343</td>\n",
       "    </tr>\n",
       "    <tr>\n",
       "      <th>SVM (One vs All)</th>\n",
       "      <td>0.689054</td>\n",
       "      <td>0.679718</td>\n",
       "    </tr>\n",
       "  </tbody>\n",
       "</table>\n",
       "</div>"
      ],
      "text/plain": [
       "                     Precision    Recall\n",
       "Algorithm                               \n",
       "Neural Network        0.931207  0.928424\n",
       "Decision Jungle       0.820878  0.806627\n",
       "Logistic Regression   0.749821  0.745298\n",
       "Decision Forest       0.930011  0.928343\n",
       "SVM (One vs All)      0.689054  0.679718"
      ]
     },
     "execution_count": 14,
     "metadata": {},
     "output_type": "execute_result"
    }
   ],
   "source": [
    "filename = '~/Downloads/Compare Multi-class Classifiers.csv'\n",
    "\n",
    "experiment_1 = pd.read_csv(filename).set_index('Algorithm')\n",
    "experiment_1.columns = ['Precision', 'Recall']\n",
    "experiment_1"
   ]
  },
  {
   "cell_type": "code",
   "execution_count": 19,
   "metadata": {},
   "outputs": [
    {
     "data": {
      "text/html": [
       "<iframe id=\"igraph\" scrolling=\"no\" style=\"border:none;\" seamless=\"seamless\" src=\"https://plot.ly/~3crowns/35.embed\" height=\"525px\" width=\"100%\"></iframe>"
      ],
      "text/plain": [
       "<plotly.tools.PlotlyDisplay object>"
      ]
     },
     "execution_count": 19,
     "metadata": {},
     "output_type": "execute_result"
    }
   ],
   "source": [
    "import cufflinks as cf\n",
    "experiment_1.iplot(kind='bar', filename='grouped-bar-chart', \n",
    "                   layout={\"title\": \"Letter recognition performance\", \"xaxis\": {\"title\": \"Algorithm\"}})"
   ]
  },
  {
   "cell_type": "code",
   "execution_count": 18,
   "metadata": {},
   "outputs": [
    {
     "data": {
      "text/plain": [
       "{'title': 'Letter recognition performance', 'xaxis': {'title': 'Algorithm'}}"
      ]
     },
     "execution_count": 18,
     "metadata": {},
     "output_type": "execute_result"
    }
   ],
   "source": [
    "dict(title=\"Letter recognition performance\", xaxis=dict(title=\"Algorithm\"))"
   ]
  },
  {
   "cell_type": "code",
   "execution_count": 26,
   "metadata": {},
   "outputs": [
    {
     "data": {
      "text/plain": [
       "'<iframe id=\"igraph\" scrolling=\"no\" style=\"border:none;\" seamless=\"seamless\" src=\"https://plot.ly/~3crowns/37.embed\" height=\"525\" width=\"100%\"></iframe>'"
      ]
     },
     "execution_count": 26,
     "metadata": {},
     "output_type": "execute_result"
    }
   ],
   "source": [
    "url = 'https://plot.ly/~3crowns/37/comparison-on-the-mnist-digit-recognition-data-set/'\n",
    "import plotly.tools as tls\n",
    "\n",
    "tls.get_embed(url)"
   ]
  },
  {
   "cell_type": "code",
   "execution_count": null,
   "metadata": {},
   "outputs": [],
   "source": []
  }
 ],
 "metadata": {
  "kernelspec": {
   "display_name": "Python 3",
   "language": "python",
   "name": "python3"
  },
  "language_info": {
   "codemirror_mode": {
    "name": "ipython",
    "version": 3
   },
   "file_extension": ".py",
   "mimetype": "text/x-python",
   "name": "python",
   "nbconvert_exporter": "python",
   "pygments_lexer": "ipython3",
   "version": "3.6.8"
  }
 },
 "nbformat": 4,
 "nbformat_minor": 2
}
